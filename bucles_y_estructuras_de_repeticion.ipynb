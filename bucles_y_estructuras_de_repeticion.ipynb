{
  "cells": [
    {
      "cell_type": "markdown",
      "source": [
        "While condicion:\n",
        "\n",
        "while de codigo de repetición\n"
      ],
      "metadata": {
        "id": "y67ZSxWXuNZ4"
      }
    },
    {
      "cell_type": "markdown",
      "source": [
        "Imprimir los números enteros menores a 10"
      ],
      "metadata": {
        "id": "iFyWFrm-urid"
      }
    },
    {
      "cell_type": "code",
      "execution_count": 3,
      "metadata": {
        "colab": {
          "base_uri": "https://localhost:8080/"
        },
        "id": "ZQGv3BN2t3Mj",
        "outputId": "f452533c-3426-4861-94ea-970f44f70c45"
      },
      "outputs": [
        {
          "output_type": "stream",
          "name": "stdout",
          "text": [
            "0\n",
            "1\n",
            "2\n",
            "3\n",
            "4\n",
            "5\n",
            "6\n",
            "7\n",
            "8\n",
            "9\n"
          ]
        }
      ],
      "source": [
        "contador = 0\n",
        "\n",
        "while(contador < 10) :\n",
        "  print(contador)\n",
        "  contador += 1\n",
        "\n",
        "\n",
        "\n",
        "#print(\"Hola Mundoss\")"
      ]
    },
    {
      "cell_type": "markdown",
      "source": [
        "# BUCLE WHILE\n",
        "\n"
      ],
      "metadata": {
        "id": "V1tDp5LDvZxD"
      }
    },
    {
      "cell_type": "markdown",
      "source": [
        "# BUCLE WHILE CON BANDERA\n"
      ],
      "metadata": {
        "id": "TmdzLx5Iv_Jf"
      }
    },
    {
      "cell_type": "markdown",
      "source": [
        "Calcular la suma de una cantidad de números enteros ingresados por el usuario"
      ],
      "metadata": {
        "id": "W01TovoKwGNF"
      }
    },
    {
      "cell_type": "code",
      "source": [
        "suma = 0\n",
        "\n",
        "continuar = True\n",
        "\n",
        "while(continuar):\n",
        "\n",
        "  input_usuario = input(\"Ingrese un número('exit' para terminar)\")\n",
        "\n",
        "  if(input_usuario == 'exit'):\n",
        "    continuar = False\n",
        "  else:\n",
        "    numero = int(input_usuario)\n",
        "    suma += numero\n",
        "    print(f'La suma es {suma}')\n",
        "\n",
        "print(f'La suma final es {suma}')\n"
      ],
      "metadata": {
        "colab": {
          "base_uri": "https://localhost:8080/"
        },
        "id": "TI1DhkCXwp-s",
        "outputId": "c72a0a35-0aa3-4e10-8d00-3d1f7e00ec10"
      },
      "execution_count": 4,
      "outputs": [
        {
          "output_type": "stream",
          "name": "stdout",
          "text": [
            "Ingrese un número('exit' para terminar)8\n",
            "La suma es 8\n",
            "Ingrese un número('exit' para terminar)8\n",
            "La suma es 16\n",
            "Ingrese un número('exit' para terminar)8\n",
            "La suma es 24\n",
            "Ingrese un número('exit' para terminar)8\n",
            "La suma es 32\n",
            "Ingrese un número('exit' para terminar)8\n",
            "La suma es 40\n",
            "Ingrese un número('exit' para terminar)exit\n",
            "La suma final es 40\n"
          ]
        }
      ]
    },
    {
      "cell_type": "markdown",
      "source": [
        "# Break"
      ],
      "metadata": {
        "id": "pFA17VxoyGvm"
      }
    },
    {
      "cell_type": "markdown",
      "source": [
        "Sentencia Break"
      ],
      "metadata": {
        "id": "VRJaEzHSyM-o"
      }
    },
    {
      "cell_type": "code",
      "source": [
        "numero = 1\n",
        "while(numero < 10):\n",
        "  if numero == 5:\n",
        "    break\n",
        "\n",
        "  print(numero)\n",
        "  numero = numero + 1"
      ],
      "metadata": {
        "colab": {
          "base_uri": "https://localhost:8080/"
        },
        "id": "h_Pxhl5EyP01",
        "outputId": "09d5dc96-2d12-412c-f4de-a815509456ca"
      },
      "execution_count": 5,
      "outputs": [
        {
          "output_type": "stream",
          "name": "stdout",
          "text": [
            "1\n",
            "2\n",
            "3\n",
            "4\n"
          ]
        }
      ]
    },
    {
      "cell_type": "markdown",
      "source": [
        "# For\n"
      ],
      "metadata": {
        "id": "WyQdhKh_yzrk"
      }
    },
    {
      "cell_type": "markdown",
      "source": [
        "for valor in 'lista de valores'\n",
        "    bloque de código para cada valor"
      ],
      "metadata": {
        "id": "lm1e9u2py8FC"
      }
    },
    {
      "cell_type": "markdown",
      "source": [
        "Escribir la letra de la canción Me gusta de Manu Chao"
      ],
      "metadata": {
        "id": "T9JRtuPTzEcS"
      }
    },
    {
      "cell_type": "code",
      "source": [
        "gustos_manuchao = [\"Los aviones\", \"viajar\", \"la mañana\", \"el viento\", \"soñar\", \"la mar\"]\n",
        "\n",
        "for gusto in gustos_manuchao:\n",
        "  print(f'Me gusta {gusto}, me gusta tú')"
      ],
      "metadata": {
        "colab": {
          "base_uri": "https://localhost:8080/"
        },
        "id": "nPz7PYg4zJu5",
        "outputId": "1c31f760-de60-4b26-f872-c45ff7880333"
      },
      "execution_count": 7,
      "outputs": [
        {
          "output_type": "stream",
          "name": "stdout",
          "text": [
            "Me gusta Los aviones, me gusta tú\n",
            "Me gusta viajar, me gusta tú\n",
            "Me gusta la mañana, me gusta tú\n",
            "Me gusta el viento, me gusta tú\n",
            "Me gusta soñar, me gusta tú\n",
            "Me gusta la mar, me gusta tú\n"
          ]
        }
      ]
    },
    {
      "cell_type": "markdown",
      "source": [
        "# Range\n"
      ],
      "metadata": {
        "id": "Vv7tWtL20QKM"
      }
    },
    {
      "cell_type": "code",
      "source": [
        "for numero in range(1, 20, 3):\n",
        "  print(numero)"
      ],
      "metadata": {
        "colab": {
          "base_uri": "https://localhost:8080/"
        },
        "id": "7161iHIl0WCK",
        "outputId": "527a84d4-e995-4243-8b60-f472dfe2cd38"
      },
      "execution_count": 8,
      "outputs": [
        {
          "output_type": "stream",
          "name": "stdout",
          "text": [
            "1\n",
            "4\n",
            "7\n",
            "10\n",
            "13\n",
            "16\n",
            "19\n"
          ]
        }
      ]
    }
  ],
  "metadata": {
    "language_info": {
      "name": "python"
    },
    "orig_nbformat": 4,
    "colab": {
      "provenance": [],
      "toc_visible": true
    },
    "kernelspec": {
      "name": "python3",
      "display_name": "Python 3"
    }
  },
  "nbformat": 4,
  "nbformat_minor": 0
}